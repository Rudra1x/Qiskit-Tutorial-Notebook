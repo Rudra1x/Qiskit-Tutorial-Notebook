{
 "cells": [
  {
   "cell_type": "markdown",
   "id": "074cf544",
   "metadata": {},
   "source": [
    "# Module 2 - Multi Qubit System "
   ]
  },
  {
   "cell_type": "markdown",
   "id": "82bc6528",
   "metadata": {},
   "source": [
    "# Module 2 — Multi-Qubit Systems\n",
    "\n",
    "## 2.1 Tensor Product & Multi-Qubit State Construction\n",
    "- A 2-qubit system is built from the tensor product of two single qubits.  \n",
    "- Example: |0> ⊗ |0> = |00>.  \n",
    "- With 2 qubits, the statevector has 4 amplitudes: [|00>, |01>, |10>, |11>].\n",
    "\n",
    "## 2.2 The CNOT Gate\n",
    "- Controlled-NOT flips the target qubit if the control qubit = 1.  \n",
    "- Essential for creating entanglement.\n",
    "\n",
    "## 2.3 The Controlled-Z Gate\n",
    "- Adds a phase flip (Z) only when control = 1.  \n",
    "- Often used in entanglement and phase-based circuits.\n",
    "\n",
    "## 2.4 The SWAP Gate\n",
    "- Exchanges the states of two qubits.  \n",
    "- Useful for reordering qubits in circuits.\n",
    "\n",
    "## 2.5 Building Simple Two-Qubit Circuits\n",
    "- Combine gates to explore multi-qubit interactions.  \n",
    "- Example: H + CNOT → Bell state.\n",
    "\n",
    "## 2.6 Hands-On: Bell State Preparation & Measurement\n",
    "- Create (|00> + |11>)/√2 using H + CNOT.  \n",
    "- Measure in computational basis to see correlation.  \n"
   ]
  },
  {
   "cell_type": "code",
   "execution_count": 2,
   "id": "68603817",
   "metadata": {},
   "outputs": [
    {
     "data": {
      "text/latex": [
       "$$ |00\\rangle$$"
      ],
      "text/plain": [
       "<IPython.core.display.Latex object>"
      ]
     },
     "metadata": {},
     "output_type": "display_data"
    }
   ],
   "source": [
    "# tensor product example\n",
    "from qiskit import QuantumCircuit\n",
    "from qiskit.quantum_info import Statevector\n",
    "qc = QuantumCircuit(2)\n",
    "state = Statevector.from_instruction(qc)\n",
    "display(state.draw('latex'))\n"
   ]
  },
  {
   "cell_type": "code",
   "execution_count": 3,
   "id": "d8fca0af",
   "metadata": {},
   "outputs": [
    {
     "data": {
      "image/png": "[encoded data removed]",
      "text/plain": [
       "<Figure size 287.294x200.667 with 1 Axes>"
      ]
     },
     "execution_count": 3,
     "metadata": {},
     "output_type": "execute_result"
    }
   ],
   "source": [
    "# CZ Gate\n",
    "qc = QuantumCircuit(2)\n",
    "qc.h(0)\n",
    "qc.cz(0,1)\n",
    "qc.draw('mpl')\n"
   ]
  },
  {
   "cell_type": "code",
   "execution_count": 64,
   "id": "3c21d6fa",
   "metadata": {},
   "outputs": [
    {
     "data": {
      "text/html": [
       "<pre style=\"word-wrap: normal;white-space: pre;background: #fff0;line-height: 1.1;font-family: &quot;Courier New&quot;,Courier,monospace\">     ┌───┐   \n",
       "q_0: ┤ X ├─X─\n",
       "     └───┘ │ \n",
       "q_1: ──────X─\n",
       "             </pre>"
      ],
      "text/plain": [
       "     ┌───┐   \n",
       "q_0: ┤ X ├─X─\n",
       "     └───┘ │ \n",
       "q_1: ──────X─\n",
       "             "
      ]
     },
     "metadata": {},
     "output_type": "display_data"
    },
    {
     "data": {
      "text/latex": [
       "$$ |10\\rangle$$"
      ],
      "text/plain": [
       "<IPython.core.display.Latex object>"
      ]
     },
     "metadata": {},
     "output_type": "display_data"
    }
   ],
   "source": [
    "# Swap Gate\n",
    "qc = QuantumCircuit(2)\n",
    "qc.x(0)\n",
    "qc.swap(0,1)\n",
    "display(qc.draw())\n",
    "state = Statevector.from_instruction(qc)\n",
    "display(state.draw('latex'))\n"
   ]
  },
  {
   "cell_type": "code",
   "execution_count": 8,
   "id": "ced32b3c",
   "metadata": {},
   "outputs": [
    {
     "data": {
      "image/png": "[encoded data removed]",
      "text/plain": [
       "<Figure size 454.517x284.278 with 1 Axes>"
      ]
     },
     "execution_count": 8,
     "metadata": {},
     "output_type": "execute_result"
    }
   ],
   "source": [
    "# Step 1 Create a 2-Qubit circuit\n",
    "from qiskit import QuantumCircuit\n",
    "qc = QuantumCircuit(2,2)\n",
    "qc.h(0)\n",
    "qc.cx(0,1) # CNot : contro-qubit 0, target- qubit 1\n",
    "qc.measure([0,1],[0,1])\n",
    "#qc.draw('mpl')"
   ]
  },
  {
   "cell_type": "code",
   "execution_count": 13,
   "id": "6e29ac93",
   "metadata": {},
   "outputs": [
    {
     "name": "stdout",
     "output_type": "stream",
     "text": [
      "{'00': 1017, '11': 983}\n"
     ]
    },
    {
     "data": {
      "image/png": "[encoded data removed]",
      "text/plain": [
       "<Figure size 700x500 with 1 Axes>"
      ]
     },
     "execution_count": 13,
     "metadata": {},
     "output_type": "execute_result"
    }
   ],
   "source": [
    "# Step 2 Simulate the circuit\n",
    "from qiskit_aer import AerSimulator\n",
    "from qiskit import transpile \n",
    "from qiskit.visualization import plot_histogram\n",
    "\n",
    "sim = AerSimulator()\n",
    "tqc = transpile(qc, sim)\n",
    "result = sim.run(tqc, shots = 2000).result()\n",
    "counts = result.get_counts()\n",
    "print(counts)\n",
    "plot_histogram(counts)"
   ]
  },
  {
   "cell_type": "code",
   "execution_count": 29,
   "id": "cf7c74c9",
   "metadata": {},
   "outputs": [
    {
     "data": {
      "text/latex": [
       "$$\\frac{\\sqrt{2}}{2} |00\\rangle+\\frac{\\sqrt{2}}{2} |11\\rangle$$"
      ],
      "text/plain": [
       "<IPython.core.display.Latex object>"
      ]
     },
     "metadata": {},
     "output_type": "display_data"
    }
   ],
   "source": [
    "# Look at the statevector\n",
    "%matplotlib inline\n",
    "from qiskit.quantum_info import Statevector\n",
    "from IPython.display import display\n",
    "\n",
    "qc_no_measure = QuantumCircuit(2)\n",
    "qc_no_measure.h(0)\n",
    "qc_no_measure.cx(0, 1)\n",
    "\n",
    "psi = Statevector.from_instruction(qc_no_measure)\n",
    "display(psi.draw('latex'))"
   ]
  },
  {
   "cell_type": "code",
   "execution_count": 5,
   "id": "7df14a4e",
   "metadata": {},
   "outputs": [
    {
     "data": {
      "image/png": "[encoded data removed]",
      "text/plain": [
       "<Figure size 580.387x284.278 with 1 Axes>"
      ]
     },
     "execution_count": 5,
     "metadata": {},
     "output_type": "execute_result"
    }
   ],
   "source": [
    "# Swap Gate\n",
    "qc = QuantumCircuit(2)\n",
    "qc.x(0)       # set first qubit to |1>\n",
    "qc.swap(0, 1)\n",
    "qc.measure_all()\n",
    "qc.draw('mpl')\n"
   ]
  },
  {
   "cell_type": "code",
   "execution_count": 13,
   "id": "243b5dee",
   "metadata": {},
   "outputs": [
    {
     "name": "stdout",
     "output_type": "stream",
     "text": [
      "{'111': 992, '000': 1008}\n"
     ]
    },
    {
     "data": {
      "image/png": "[encoded data removed]",
      "text/plain": [
       "<Figure size 640x480 with 1 Axes>"
      ]
     },
     "execution_count": 13,
     "metadata": {},
     "output_type": "execute_result"
    }
   ],
   "source": [
    "# Mini Excercise\n",
    "from qiskit_aer import AerSimulator\n",
    "from qiskit import transpile\n",
    "from qiskit.visualization import plot_histogram\n",
    "qc = QuantumCircuit(3,3)\n",
    "qc.h(0)\n",
    "qc.cx(0,1)\n",
    "qc.cx(1,2)\n",
    "qc.measure([0,1,2], [0,1,2])\n",
    "qc.draw('mpl')\n",
    "sim = AerSimulator()\n",
    "tqc = transpile(qc, sim)\n",
    "result = sim.run(tqc, shots = 2000).result()\n",
    "counts = result.get_counts()\n",
    "print(counts)\n",
    "plot_histogram(counts)"
   ]
  },
  {
   "cell_type": "code",
   "execution_count": 70,
   "id": "a50334dc",
   "metadata": {},
   "outputs": [
    {
     "data": {
      "text/latex": [
       "$$\\frac{\\sqrt{2}}{2} |00\\rangle+\\frac{\\sqrt{2}}{2} |11\\rangle$$"
      ],
      "text/plain": [
       "<IPython.core.display.Latex object>"
      ]
     },
     "metadata": {},
     "output_type": "display_data"
    },
    {
     "data": {
      "text/html": [
       "<pre style=\"word-wrap: normal;white-space: pre;background: #fff0;line-height: 1.1;font-family: &quot;Courier New&quot;,Courier,monospace\">     ┌───┐     \n",
       "q_0: ┤ H ├──■──\n",
       "     └───┘┌─┴─┐\n",
       "q_1: ─────┤ X ├\n",
       "          └───┘\n",
       "c: 2/══════════\n",
       "               </pre>"
      ],
      "text/plain": [
       "     ┌───┐     \n",
       "q_0: ┤ H ├──■──\n",
       "     └───┘┌─┴─┐\n",
       "q_1: ─────┤ X ├\n",
       "          └───┘\n",
       "c: 2/══════════\n",
       "               "
      ]
     },
     "metadata": {},
     "output_type": "display_data"
    }
   ],
   "source": [
    "# Bell State\n",
    "qc = QuantumCircuit(2,2)\n",
    "qc.h(0)\n",
    "qc.cx(0,1)\n",
    "#qc.measure([0,1],[0,1])\n",
    "display(Statevector.from_instruction(qc).draw('latex'))\n",
    "display(qc.draw())"
   ]
  }
 ],
 "metadata": {
  "kernelspec": {
   "display_name": ".venv",
   "language": "python",
   "name": "python3"
  },
  "language_info": {
   "codemirror_mode": {
    "name": "ipython",
    "version": 3
   },
   "file_extension": ".py",
   "mimetype": "text/x-python",
   "name": "python",
   "nbconvert_exporter": "python",
   "pygments_lexer": "ipython3",
   "version": "3.10.7"
  }
 },
 "nbformat": 4,
 "nbformat_minor": 5
}
