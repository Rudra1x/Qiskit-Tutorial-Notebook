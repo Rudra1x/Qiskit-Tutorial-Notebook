{
 "cells": [
  {
   "cell_type": "markdown",
   "id": "4d1553fd",
   "metadata": {},
   "source": [
    "# Module 3 — Quantum Algorithms Basics\n",
    "\n",
    "## 3.1 Quantum Superposition & Parallelism\n",
    "- Superposition allows qubits to encode multiple states simultaneously.\n",
    "- This enables \"quantum parallelism\" — evaluating functions on many inputs at once.\n",
    "\n",
    "## 3.2 Interference in Quantum Circuits\n",
    "- Quantum algorithms use constructive and destructive interference.\n",
    "- Example: applying H gates can amplify or cancel amplitudes.\n",
    "\n",
    "## 3.3 The Deutsch Algorithm\n",
    "- Problem: Decide if a function f:{0,1}→{0,1} is constant or balanced.\n",
    "- Quantum solution needs only **1 evaluation** vs classical needing **2**.\n",
    "- Uses: H gates, oracle Uf, measurement.\n",
    "\n",
    "## 3.4 The Bernstein-Vazirani Algorithm\n",
    "- Problem: Find hidden bit string `s` given f(x)=s·x (dot product mod 2).\n",
    "- Classical: O(n) evaluations.  \n",
    "- Quantum: **1 evaluation**.\n",
    "- Uses H gates, Uf oracle, and measurement.\n",
    "\n",
    "## 3.5 Hands-On: Implementing Deutsch & BV in Qiskit\n",
    "- Build circuits step by step.\n",
    "- Simulate measurement outcomes and compare with classical.\n"
   ]
  },
  {
   "cell_type": "code",
   "execution_count": 1,
   "id": "7c96f228",
   "metadata": {},
   "outputs": [
    {
     "data": {
      "text/latex": [
       "$$\\frac{1}{2} |00\\rangle+\\frac{1}{2} |01\\rangle+\\frac{1}{2} |10\\rangle+\\frac{1}{2} |11\\rangle$$"
      ],
      "text/plain": [
       "<IPython.core.display.Latex object>"
      ]
     },
     "metadata": {},
     "output_type": "display_data"
    }
   ],
   "source": [
    "# Superposition \n",
    "from qiskit import QuantumCircuit \n",
    "from qiskit.quantum_info import Statevector\n",
    "\n",
    "qc = QuantumCircuit(2)\n",
    "qc.h([0,1])\n",
    "state = Statevector.from_instruction(qc)\n",
    "display(state.draw('latex'))"
   ]
  },
  {
   "cell_type": "code",
   "execution_count": 2,
   "id": "22f98880",
   "metadata": {},
   "outputs": [
    {
     "data": {
      "text/latex": [
       "$$ |0\\rangle$$"
      ],
      "text/plain": [
       "<IPython.core.display.Latex object>"
      ]
     },
     "metadata": {},
     "output_type": "display_data"
    }
   ],
   "source": [
    "# Interference Example\n",
    "qc = QuantumCircuit(1)\n",
    "qc.h(0)\n",
    "qc.h(0) # Applying H twice = Identity (Interference cancels)\n",
    "state = Statevector.from_instruction(qc)\n",
    "display(state.draw('latex'))\n"
   ]
  },
  {
   "cell_type": "markdown",
   "id": "8716d9e3",
   "metadata": {},
   "source": [
    "# Deutsch Algorithm\n",
    "\n",
    "## Define oracle for balanced/constant functions.\n",
    "\n",
    "## Apply Hadamards → Uf → Hadamards → measure."
   ]
  },
  {
   "cell_type": "code",
   "execution_count": 1,
   "id": "b43527d5",
   "metadata": {},
   "outputs": [
    {
     "name": "stdout",
     "output_type": "stream",
     "text": [
      "{'1': 2000}\n"
     ]
    },
    {
     "data": {
      "image/png": "[encoded data removed]",
      "text/plain": [
       "<Figure size 640x480 with 1 Axes>"
      ]
     },
     "execution_count": 1,
     "metadata": {},
     "output_type": "execute_result"
    }
   ],
   "source": [
    "from qiskit import QuantumCircuit, transpile, assemble\n",
    "from qiskit_aer import AerSimulator\n",
    "from qiskit.visualization import plot_histogram\n",
    "\n",
    "# Deutsch Algorithm for f(x) = x (balanced)\n",
    "qc = QuantumCircuit(2, 1)\n",
    "qc.x(1)\n",
    "qc.h([0,1])\n",
    "qc.barrier()\n",
    "\n",
    "qc.cx(0,1)\n",
    "qc.barrier()\n",
    "\n",
    "qc.h(0)\n",
    "qc.measure(0, 0)\n",
    "qc.draw('mpl')\n",
    "\n",
    "sim = AerSimulator()\n",
    "tqc = transpile(qc, sim)\n",
    "result = sim.run(tqc, shots = 2000).result()\n",
    "counts = result.get_counts()\n",
    "print(counts)\n",
    "plot_histogram(counts)"
   ]
  },
  {
   "cell_type": "code",
   "execution_count": 7,
   "id": "57d8472a",
   "metadata": {},
   "outputs": [
    {
     "name": "stdout",
     "output_type": "stream",
     "text": [
      "{'101': 2000}\n"
     ]
    },
    {
     "data": {
      "image/png": "[encoded data removed]",
      "text/plain": [
       "<Figure size 700x500 with 1 Axes>"
      ]
     },
     "execution_count": 7,
     "metadata": {},
     "output_type": "execute_result"
    }
   ],
   "source": [
    "# Bernstein-Vazirani Algorithm (Example : secret string s = \"101\")\n",
    "\n",
    "n = 3\n",
    "qc = QuantumCircuit(n+1, n)\n",
    "qc.x(n)\n",
    "qc.h(range(n+1))\n",
    "\n",
    "#Oracle for s = 101\n",
    "qc.cx(0,n)\n",
    "qc.cx(2,n)\n",
    "\n",
    "qc.h(range(n))\n",
    "qc.measure(range(n), range(n))\n",
    "qc.draw('mpl')\n",
    "sim = AerSimulator()\n",
    "tqc = transpile(qc, sim)\n",
    "result = sim.run(tqc, shots = 2000).result()\n",
    "counts = result.get_counts()\n",
    "print(counts)\n",
    "plot_histogram(counts)"
   ]
  },
  {
   "cell_type": "markdown",
   "id": "e751b5ec",
   "metadata": {},
   "source": [
    "# Bell states & their measurement correlations\n",
    "## Bell states are maximally entangled 2-qubit states. Example:\n",
    "## ket [phi(+)]​ = ket(00) + ket(11) / root2\n",
    "## They show strong correlation in multiple measurement bases (Z,X)\n",
    "\n",
    "## code - Prepare ket[phi(+)], view statevector, measure in Z\n",
    "\n",
    "."
   ]
  },
  {
   "cell_type": "code",
   "execution_count": 2,
   "id": "832f49a5",
   "metadata": {},
   "outputs": [
    {
     "data": {
      "text/latex": [
       "$$\\frac{\\sqrt{2}}{2} |00\\rangle+\\frac{\\sqrt{2}}{2} |11\\rangle$$"
      ],
      "text/plain": [
       "<IPython.core.display.Latex object>"
      ]
     },
     "metadata": {},
     "output_type": "display_data"
    },
    {
     "name": "stdout",
     "output_type": "stream",
     "text": [
      "{'00': 1919, '11': 2081}\n"
     ]
    },
    {
     "data": {
      "image/png": "[encoded data removed]",
      "text/plain": [
       "<Figure size 640x480 with 1 Axes>"
      ]
     },
     "execution_count": 2,
     "metadata": {},
     "output_type": "execute_result"
    }
   ],
   "source": [
    "# |Φ+> = (|00> + |11>)/√2\n",
    "from qiskit.quantum_info import Statevector\n",
    "qc = QuantumCircuit(2, 2)\n",
    "qc.h(0)\n",
    "qc.cx(0, 1)\n",
    "qc.draw('mpl')\n",
    "\n",
    "#Statevector (use circuit without measurement)\n",
    "qc_sv = QuantumCircuit(2)\n",
    "qc_sv.h(0)\n",
    "qc_sv.cx(0, 1)\n",
    "sv = Statevector.from_instruction(qc_sv)\n",
    "display(sv.draw('latex'))\n",
    "\n",
    "# Z-basis measurement correlations (~50% 00 and 50% 11)\n",
    "qc_meas = qc.copy()\n",
    "qc_meas.measure([0, 1], [0, 1])\n",
    "tqc = transpile(qc_meas, sim)\n",
    "res = sim.run(tqc, shots = 4000).result()\n",
    "counts = res.get_counts()\n",
    "print(counts)\n",
    "plot_histogram(counts)"
   ]
  },
  {
   "cell_type": "code",
   "execution_count": 23,
   "id": "bc494610",
   "metadata": {},
   "outputs": [
    {
     "name": "stdout",
     "output_type": "stream",
     "text": [
      "{'00': 1994, '11': 2006}\n"
     ]
    },
    {
     "data": {
      "image/png": "[encoded data removed]",
      "text/plain": [
       "<Figure size 700x500 with 1 Axes>"
      ]
     },
     "execution_count": 23,
     "metadata": {},
     "output_type": "execute_result"
    }
   ],
   "source": [
    "# Measure both qubits in X basis: apply H, then measure\n",
    "qc_x = QuantumCircuit(2, 2)\n",
    "qc_x.h(0); qc_x.cx(0,1)\n",
    "qc_x.h([0,1])               # rotate X->Z\n",
    "qc_x.measure([0,1],[0,1])\n",
    "\n",
    "tqc_x = transpile(qc_x, sim)\n",
    "res_x = sim.run(tqc_x, shots=4000).result()\n",
    "counts_x = res_x.get_counts()\n",
    "print(counts_x)\n",
    "plot_histogram(counts_x)\n"
   ]
  },
  {
   "cell_type": "code",
   "execution_count": 29,
   "id": "ab1597ed",
   "metadata": {},
   "outputs": [
    {
     "name": "stdout",
     "output_type": "stream",
     "text": [
      "E_ZZ = 1.0\n",
      "E_XX = 1.0\n"
     ]
    }
   ],
   "source": [
    "def corr_E(counts):\n",
    "    shots = sum(counts.values())\n",
    "    p = {b: counts.get(b,0)/shots for b in ['00','01','10','11']}\n",
    "    return p['00'] + p['11'] - p['01'] - p['10']\n",
    "\n",
    "print(\"E_ZZ =\", corr_E(counts))\n",
    "print(\"E_XX =\", corr_E(counts_x))\n"
   ]
  },
  {
   "cell_type": "markdown",
   "id": "22cd70bb",
   "metadata": {},
   "source": [
    "# GHZ state creation\n",
    "## Shows all-or-nothing correlations."
   ]
  },
  {
   "cell_type": "code",
   "execution_count": 3,
   "id": "339f8c3c",
   "metadata": {},
   "outputs": [
    {
     "name": "stdout",
     "output_type": "stream",
     "text": [
      "{'111': 1979, '000': 2021}\n"
     ]
    },
    {
     "data": {
      "image/png": "[encoded data removed]",
      "text/plain": [
       "<Figure size 640x480 with 1 Axes>"
      ]
     },
     "execution_count": 3,
     "metadata": {},
     "output_type": "execute_result"
    }
   ],
   "source": [
    "# Build and measure GHZ\n",
    "\n",
    "qc = QuantumCircuit(3,3)\n",
    "qc.h(0)\n",
    "qc.cx(0,1)\n",
    "qc.cx(1,2)\n",
    "qc.measure([0,1,2],[0,1,2])\n",
    "qc.draw('mpl')\n",
    "\n",
    "tqc = transpile(qc,sim)\n",
    "res = sim.run(tqc, shots = 4000).result()\n",
    "counts = res.get_counts()\n",
    "print(counts)\n",
    "plot_histogram(counts)  "
   ]
  },
  {
   "cell_type": "markdown",
   "id": "ca5c0773",
   "metadata": {},
   "source": [
    "# Quantum teleportation protocol (step-by-step) (Markdown)\n",
    "\n",
    "## Goal: transfer an unknown state ∣𝜓⟩ from Alice (q0) to Bob (q2) using shared entanglement (q1–q2) and 2 classical bits.\n",
    "## Steps: prepare ∣𝜓⟩ on q0 → create Bell pair between q1 & q2 → Bell-measure q0,q1 → send bits → Bob applies conditional 𝑍 and 𝑋."
   ]
  },
  {
   "cell_type": "code",
   "execution_count": 9,
   "id": "ac138c81",
   "metadata": {},
   "outputs": [
    {
     "name": "stdout",
     "output_type": "stream",
     "text": [
      "Input state: theta=0.6, phi=0.3\n"
     ]
    },
    {
     "data": {
      "text/plain": [
       "\"Output measurement (Bob's qubit):\""
      ]
     },
     "metadata": {},
     "output_type": "display_data"
    },
    {
     "data": {
      "text/plain": [
       "{'0 1 0': 238,\n",
       " '0 0 1': 228,\n",
       " '0 1 1': 226,\n",
       " '0 0 0': 232,\n",
       " '1 0 1': 23,\n",
       " '1 1 1': 21,\n",
       " '1 1 0': 20,\n",
       " '1 0 0': 12}"
      ]
     },
     "metadata": {},
     "output_type": "display_data"
    },
    {
     "data": {
      "image/png": "[encoded data removed]",
      "text/plain": [
       "<Figure size 640x480 with 1 Axes>"
      ]
     },
     "execution_count": 9,
     "metadata": {},
     "output_type": "execute_result"
    }
   ],
   "source": [
    "# Teleportation with conditional corrections\n",
    "from qiskit import QuantumCircuit, QuantumRegister, ClassicalRegister\n",
    "from qiskit_aer import AerSimulator\n",
    "from qiskit import transpile\n",
    "\n",
    "qr = QuantumRegister(3)\n",
    "crz = ClassicalRegister(1, 'cz')\n",
    "crx = ClassicalRegister(1, 'cx')\n",
    "crout = ClassicalRegister(1, 'cout') # for Bob's output measurement\n",
    "qc = QuantumCircuit(qr, crz, crx, crout)\n",
    "\n",
    "# 1. Prepare an arbitrary state psi on q0 \n",
    "theta, phi = 0.6, 0.3\n",
    "qc.ry(theta, qr[0])\n",
    "qc.rz(phi, qr[0])\n",
    "\n",
    "# 2. Create Bell pair between q1 and q2\n",
    "qc.h(qr[1])\n",
    "qc.cx(qr[1], qr[2])\n",
    "qc.barrier()\n",
    "\n",
    "# 3. Bell measurement on q0 and q1\n",
    "qc.cx(qr[0], qr[1])\n",
    "qc.h(qr[0])\n",
    "qc.measure(qr[0], crz[0]) # first bit controls Z\n",
    "qc.measure(qr[1], crx[0]) # second bit controls X\n",
    "from qiskit.circuit.library import ZGate, XGate\n",
    "\n",
    "\n",
    "# 4. Bob's conditional corrections on q2\n",
    "#qc.z(qr[2]).c_if(crz, 1) # if crz==1 apply Z\n",
    "#qc.x(qr[2]).c_if(crx, 1) # if crx==1 apply X\n",
    "with qc.if_test((crz, 1)):\n",
    "    qc.z(qr[2])\n",
    "with qc.if_test((crx, 1)):\n",
    "    qc.x(qr[2])\n",
    "\n",
    "# 5. Measure Bob's qubit to classical output register\n",
    "qc.measure(qr[2], crout[0])\n",
    "\n",
    "qc.draw('mpl')\n",
    "\n",
    "# Simulate and show output\n",
    "sim = AerSimulator()\n",
    "tqc = transpile(qc, sim)\n",
    "result = sim.run(tqc, shots=1000).result()\n",
    "counts = result.get_counts()\n",
    "print(f\"Input state: theta={theta}, phi={phi}\")\n",
    "display(\"Output measurement (Bob's qubit):\", counts)\n",
    "plot_histogram(counts)"
   ]
  },
  {
   "cell_type": "code",
   "execution_count": 17,
   "id": "6772c106",
   "metadata": {},
   "outputs": [
    {
     "name": "stdout",
     "output_type": "stream",
     "text": [
      "Alice's original state |ψ⟩ = DensityMatrix([[0.91266781-1.10423021e-17j, 0.26971178-8.34316302e-02j],\n",
      "               [0.26971178+8.34316302e-02j, 0.08733219-1.62013794e-19j]],\n",
      "              dims=(2,))\n",
      "Bob's final state = DensityMatrix([[0.91266781+0.j        , 0.26971178-0.08343163j],\n",
      "               [0.26971178+0.08343163j, 0.08733219+0.j        ]],\n",
      "              dims=(2,))\n",
      "Fidelity = 0.9999999999999998\n"
     ]
    }
   ],
   "source": [
    "from qiskit import QuantumCircuit\n",
    "from qiskit_aer import Aer\n",
    "from qiskit.quantum_info import Statevector, state_fidelity, partial_trace, DensityMatrix\n",
    "import numpy as np\n",
    "\n",
    "# -----------------------------\n",
    "# 1) Prepare arbitrary state |ψ> on q0\n",
    "# -----------------------------\n",
    "theta, phi = 0.6, 0.3   # change angles to test\n",
    "qc_prep = QuantumCircuit(1)\n",
    "qc_prep.ry(theta, 0)\n",
    "qc_prep.rz(phi, 0)\n",
    "\n",
    "# Save Alice’s prepared state (as single-qubit density matrix)\n",
    "psi = Statevector.from_instruction(qc_prep)\n",
    "psi_dm = DensityMatrix(psi)\n",
    "\n",
    "# -----------------------------\n",
    "# 2) Full teleportation circuit\n",
    "# -----------------------------\n",
    "qc = QuantumCircuit(3)\n",
    "\n",
    "# prepare |ψ> on q0\n",
    "qc.ry(theta, 0)\n",
    "qc.rz(phi, 0)\n",
    "\n",
    "# entanglement between q1-q2\n",
    "qc.h(1)\n",
    "qc.cx(1, 2)\n",
    "\n",
    "# Bell measurement (no classical measurement here)\n",
    "qc.cx(0, 1)\n",
    "qc.h(0)\n",
    "\n",
    "# Bob’s corrections (unitary form)\n",
    "qc.cx(1, 2)   # X correction\n",
    "qc.cz(0, 2)   # Z correction\n",
    "\n",
    "# -----------------------------\n",
    "# 3) Get final statevector\n",
    "# -----------------------------\n",
    "backend = Aer.get_backend('statevector_simulator')\n",
    "result = backend.run(qc).result()\n",
    "final_state = result.get_statevector(qc)\n",
    "\n",
    "# -----------------------------\n",
    "# 4) Extract Bob’s qubit only\n",
    "# -----------------------------\n",
    "bob_state = partial_trace(final_state, [0,1])  # reduced density matrix of q2\n",
    "\n",
    "# -----------------------------\n",
    "# 5) Fidelity check\n",
    "# -----------------------------\n",
    "fidelity = state_fidelity(psi_dm, bob_state)\n",
    "\n",
    "print(\"Alice's original state |ψ⟩ =\", psi_dm)\n",
    "print(\"Bob's final state =\", bob_state)\n",
    "print(\"Fidelity =\", fidelity)\n"
   ]
  },
  {
   "cell_type": "markdown",
   "id": "57e04e0c",
   "metadata": {},
   "source": [
    "# Superdense coding\n",
    "\n",
    "- Use shared entanglement to send 2 classical bits by transmitting 1 qubit.\n",
    "- Encoding map (on Alice’s qubit):# 00 → 𝐼\n",
    "- 01 → 𝑋\n",
    "- 10 → 𝑍\n",
    "- 11 → 𝑋𝑍 (or 𝑍 then 𝑋)\n",
    "- Bob decodes with CNOT + H and measures two bits."
   ]
  },
  {
   "cell_type": "markdown",
   "id": "64f15ec9",
   "metadata": {},
   "source": [
    "# Hands-on experiments with simulation"
   ]
  },
  {
   "cell_type": "code",
   "execution_count": 14,
   "id": "0eaf7f87",
   "metadata": {},
   "outputs": [],
   "source": [
    "# Helper: measure in arbitrary basis\n",
    "from qiskit import QuantumCircuit\n",
    "\n",
    "def measure_in_basis(qc, qubits, clbits, basis='Z'):\n",
    "    \"\"\"\n",
    "    Apply basis rotations before measuring.\n",
    "    basis: 'Z', 'X', 'Y'\n",
    "    \"\"\"\n",
    "    for q in qubits:\n",
    "        if basis == 'X':\n",
    "            qc.h(q)\n",
    "        elif basis == 'Y':\n",
    "            qc.sdg(q)\n",
    "            qc.h(q)\n",
    "    qc.measure(qubits, clbits)\n",
    "    return qc\n"
   ]
  },
  {
   "cell_type": "code",
   "execution_count": null,
   "id": "1457ec8d",
   "metadata": {},
   "outputs": [
    {
     "name": "stdout",
     "output_type": "stream",
     "text": [
      "\n",
      "phi+ in Z basis: {'11': 988, '00': 1012}\n",
      "phi+ in X basis: {'11': 1010, '00': 990}\n",
      "\n",
      "phi- in Z basis: {'11': 977, '00': 1023}\n",
      "phi- in X basis: {'10': 1049, '01': 951}\n",
      "\n",
      "psi+ in Z basis: {'10': 1008, '01': 992}\n",
      "psi+ in X basis: {'00': 986, '11': 1014}\n",
      "\n",
      "psi- in Z basis: {'01': 996, '10': 1004}\n",
      "psi- in X basis: {'10': 1020, '01': 980}\n"
     ]
    }
   ],
   "source": [
    "# Bell basis sweep\n",
    "# Prepare all 4 Bell states and check Z and X correlations.\n",
    "from qiskit_aer import AerSimulator\n",
    "from qiskit import QuantumCircuit, transpile\n",
    "def bell_state(which=\"phi+\"):\n",
    "    qc = QuantumCircuit(2,2)\n",
    "    qc.h(0)\n",
    "    qc.cx(0,1)\n",
    "    if which == \"phi-\":\n",
    "        qc.z(0)\n",
    "    elif which == \"psi+\":\n",
    "        qc.x(0)\n",
    "    elif which == \"psi-\":\n",
    "        qc.z(0); qc.x(0)\n",
    "    return qc\n",
    "\n",
    "states = [\"phi+\",\"phi-\",\"psi+\",\"psi-\"]\n",
    "sim = AerSimulator()\n",
    "for s in states:\n",
    "    qc = bell_state(s).copy()\n",
    "    qc_z = qc.copy()\n",
    "    qc_z = measure_in_basis(qc_z, [0,1],[0,1],'Z')\n",
    "    res_z = sim.run(transpile(qc_z, sim), shots=2000).result().get_counts()\n",
    "    \n",
    "    qc_x = bell_state(s).copy()\n",
    "    qc_x = measure_in_basis(qc_x, [0,1],[0,1],'X')\n",
    "    res_x = sim.run(transpile(qc_x, sim), shots=2000).result().get_counts()\n",
    "    \n",
    "    print(f\"\\n{s} in Z basis:\", res_z)\n",
    "    print(f\"{s} in X basis:\", res_x)\n"
   ]
  },
  {
   "cell_type": "code",
   "execution_count": 21,
   "id": "426259c3",
   "metadata": {},
   "outputs": [
    {
     "name": "stdout",
     "output_type": "stream",
     "text": [
      "E_XX for |Φ+> = 1.0\n"
     ]
    }
   ],
   "source": [
    "# Compute correlation 𝐸\n",
    "def correlation(counts):\n",
    "    shots = sum(counts.values())\n",
    "    probs = {k: v/shots for k,v in counts.items()}\n",
    "    return probs.get('00',0)+probs.get('11',0)-probs.get('01',0)-probs.get('10',0)\n",
    "\n",
    "# Example for Bell state |Φ+>\n",
    "qc = bell_state(\"phi+\").copy()\n",
    "qc = measure_in_basis(qc, [0,1],[0,1],'X')\n",
    "res = sim.run(transpile(qc, sim), shots=4000).result().get_counts()\n",
    "print(\"E_XX for |Φ+> =\", correlation(res))\n"
   ]
  },
  {
   "cell_type": "code",
   "execution_count": 19,
   "id": "c89abb42",
   "metadata": {},
   "outputs": [
    {
     "name": "stdout",
     "output_type": "stream",
     "text": [
      "{'011': 1014, '000': 1014, '110': 1033, '101': 939}\n"
     ]
    },
    {
     "data": {
      "image/png": "[encoded data removed]",
      "text/plain": [
       "<Figure size 640x480 with 1 Axes>"
      ]
     },
     "execution_count": 19,
     "metadata": {},
     "output_type": "execute_result"
    }
   ],
   "source": [
    "# GHZ parity check in X basis\n",
    "from qiskit.visualization import plot_histogram\n",
    "def measure_in_basis(qc, qubits, clbits, basis='Z'):\n",
    "    \"\"\"\n",
    "    Apply basis rotations before measuring.\n",
    "    basis: 'Z', 'X', 'Y'\n",
    "    \"\"\"\n",
    "    for q in qubits:\n",
    "        if basis == 'X':\n",
    "            qc.h(q)\n",
    "        elif basis == 'Y':\n",
    "            qc.sdg(q)\n",
    "            qc.h(q)\n",
    "    qc.measure(qubits, clbits)\n",
    "    return qc\n",
    "qc = QuantumCircuit(3,3)\n",
    "qc.h(0); qc.cx(0,1); qc.cx(0,2)\n",
    "qc = measure_in_basis(qc, [0,1,2],[0,1,2],'X')\n",
    "\n",
    "res = sim.run(transpile(qc, sim), shots=4000).result().get_counts()\n",
    "print(res)\n",
    "plot_histogram(res)\n"
   ]
  },
  {
   "cell_type": "code",
   "execution_count": 21,
   "id": "9ae65057",
   "metadata": {},
   "outputs": [
    {
     "data": {
      "image/png": "[encoded data removed]",
      "text/plain": [
       "<Figure size 640x480 with 1 Axes>"
      ]
     },
     "execution_count": 21,
     "metadata": {},
     "output_type": "execute_result"
    }
   ],
   "source": [
    "# Noise Experiment\n",
    "from qiskit_aer.noise import NoiseModel, depolarizing_error\n",
    "\n",
    "# Depolarizing noise on CX gate\n",
    "noise_model = NoiseModel()\n",
    "error = depolarizing_error(0.1, 2)   # 10% error\n",
    "noise_model.add_all_qubit_quantum_error(error, ['cx'])\n",
    "def bell_state(which=\"phi+\"):\n",
    "    qc = QuantumCircuit(2,2)\n",
    "    qc.h(0)\n",
    "    qc.cx(0,1)\n",
    "    if which == \"phi-\":\n",
    "        qc.z(0)\n",
    "    elif which == \"psi+\":\n",
    "        qc.x(0)\n",
    "    elif which == \"psi-\":\n",
    "        qc.z(0); qc.x(0)\n",
    "    return qc\n",
    "\n",
    "qc = bell_state(\"phi+\")\n",
    "qc = measure_in_basis(qc, [0,1],[0,1],'Z')\n",
    "\n",
    "res = sim.run(transpile(qc, sim), shots=2000, noise_model=noise_model).result().get_counts()\n",
    "plot_histogram(res)\n"
   ]
  },
  {
   "cell_type": "markdown",
   "id": "d8070c19",
   "metadata": {},
   "source": [
    "# CHSH Inequality Test with Qiskit\n",
    "\n",
    "- The CHSH inequality is written as:\n",
    "- S = | E(a,b) + E(a,b') + E(a',b) - E(a',b') <= 2\n",
    "-  Quantum mechanics can reach 𝑆 ≈ 2.828, violating the classical bound."
   ]
  },
  {
   "cell_type": "code",
   "execution_count": 46,
   "id": "c6555c85",
   "metadata": {},
   "outputs": [
    {
     "name": "stdout",
     "output_type": "stream",
     "text": [
      "E(a,b)   = 0.715\n",
      "E(a,b')  = 0.7165\n",
      "E(a',b)  = 0.7155\n",
      "E(a',b') = -0.7195\n",
      "CHSH S = 2.8665000000000003\n"
     ]
    }
   ],
   "source": [
    "# Define correlation calculator\n",
    "from qiskit import QuantumCircuit, transpile\n",
    "from qiskit_aer import Aer\n",
    "from qiskit.quantum_info import Statevector\n",
    "import numpy as np\n",
    "\n",
    "sim = Aer.get_backend(\"aer_simulator\")\n",
    "\n",
    "def measure_and_correlation(theta_a, theta_b, shots=4000):\n",
    "    \"\"\"\n",
    "    Measure Bell state in rotated bases for CHSH.\n",
    "    \"\"\"\n",
    "    qc = QuantumCircuit(2,2)\n",
    "    # Prepare |Φ+>\n",
    "    qc.h(0); qc.cx(0,1)\n",
    "\n",
    "    # Apply measurement rotations\n",
    "    qc.ry(-2*theta_a, 0)  # Alice\n",
    "    qc.ry(-2*theta_b, 1)  # Bob\n",
    "    \n",
    "    qc.measure([0,1],[0,1])\n",
    "\n",
    "    res = sim.run(transpile(qc, sim), shots=shots).result().get_counts()\n",
    "    \n",
    "    # Correlation: (00,11) - (01,10)\n",
    "    total = sum(res.values())\n",
    "    corr = (res.get('00',0)+res.get('11',0)-res.get('01',0)-res.get('10',0))/total\n",
    "    return corr\n",
    "\n",
    "# Choose CHSH measurement angles\n",
    "a, a_p = 0, np.pi/4\n",
    "b, b_p = np.pi/8, -np.pi/8\n",
    "\n",
    "E_ab   = measure_and_correlation(a, b)\n",
    "E_abp  = measure_and_correlation(a, b_p)\n",
    "E_apb  = measure_and_correlation(a_p, b)\n",
    "E_apbp = measure_and_correlation(a_p, b_p)\n",
    "\n",
    "S = abs(E_ab + E_abp + E_apb - E_apbp)\n",
    "\n",
    "print(\"E(a,b)   =\", E_ab)\n",
    "print(\"E(a,b')  =\", E_abp)\n",
    "print(\"E(a',b)  =\", E_apb)\n",
    "print(\"E(a',b') =\", E_apbp)\n",
    "print(\"CHSH S =\", S)\n"
   ]
  }
 ],
 "metadata": {
  "kernelspec": {
   "display_name": ".venv",
   "language": "python",
   "name": "python3"
  },
  "language_info": {
   "codemirror_mode": {
    "name": "ipython",
    "version": 3
   },
   "file_extension": ".py",
   "mimetype": "text/x-python",
   "name": "python",
   "nbconvert_exporter": "python",
   "pygments_lexer": "ipython3",
   "version": "3.10.7"
  }
 },
 "nbformat": 4,
 "nbformat_minor": 5
}
