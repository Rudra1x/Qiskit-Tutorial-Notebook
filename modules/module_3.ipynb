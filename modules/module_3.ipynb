{
 "cells": [
  {
   "cell_type": "markdown",
   "id": "4d1553fd",
   "metadata": {},
   "source": [
    "# Module 3 — Quantum Algorithms Basics\n",
    "\n",
    "## 3.1 Quantum Superposition & Parallelism\n",
    "- Superposition allows qubits to encode multiple states simultaneously.\n",
    "- This enables \"quantum parallelism\" — evaluating functions on many inputs at once.\n",
    "\n",
    "## 3.2 Interference in Quantum Circuits\n",
    "- Quantum algorithms use constructive and destructive interference.\n",
    "- Example: applying H gates can amplify or cancel amplitudes.\n",
    "\n",
    "## 3.3 The Deutsch Algorithm\n",
    "- Problem: Decide if a function f:{0,1}→{0,1} is constant or balanced.\n",
    "- Quantum solution needs only **1 evaluation** vs classical needing **2**.\n",
    "- Uses: H gates, oracle Uf, measurement.\n",
    "\n",
    "## 3.4 The Bernstein-Vazirani Algorithm\n",
    "- Problem: Find hidden bit string `s` given f(x)=s·x (dot product mod 2).\n",
    "- Classical: O(n) evaluations.  \n",
    "- Quantum: **1 evaluation**.\n",
    "- Uses H gates, Uf oracle, and measurement.\n",
    "\n",
    "## 3.5 Hands-On: Implementing Deutsch & BV in Qiskit\n",
    "- Build circuits step by step.\n",
    "- Simulate measurement outcomes and compare with classical.\n"
   ]
  },
  {
   "cell_type": "code",
   "execution_count": 1,
   "id": "7c96f228",
   "metadata": {},
   "outputs": [
    {
     "data": {
      "text/latex": [
       "$$\\frac{1}{2} |00\\rangle+\\frac{1}{2} |01\\rangle+\\frac{1}{2} |10\\rangle+\\frac{1}{2} |11\\rangle$$"
      ],
      "text/plain": [
       "<IPython.core.display.Latex object>"
      ]
     },
     "metadata": {},
     "output_type": "display_data"
    }
   ],
   "source": [
    "# Superposition \n",
    "from qiskit import QuantumCircuit \n",
    "from qiskit.quantum_info import Statevector\n",
    "\n",
    "qc = QuantumCircuit(2)\n",
    "qc.h([0,1])\n",
    "state = Statevector.from_instruction(qc)\n",
    "display(state.draw('latex'))"
   ]
  },
  {
   "cell_type": "code",
   "execution_count": 2,
   "id": "22f98880",
   "metadata": {},
   "outputs": [
    {
     "data": {
      "text/latex": [
       "$$ |0\\rangle$$"
      ],
      "text/plain": [
       "<IPython.core.display.Latex object>"
      ]
     },
     "metadata": {},
     "output_type": "display_data"
    }
   ],
   "source": [
    "# Interference Example\n",
    "qc = QuantumCircuit(1)\n",
    "qc.h(0)\n",
    "qc.h(0) # Applying H twice = Identity (Interference cancels)\n",
    "state = Statevector.from_instruction(qc)\n",
    "display(state.draw('latex'))\n"
   ]
  },
  {
   "cell_type": "markdown",
   "id": "8716d9e3",
   "metadata": {},
   "source": [
    "# Deutsch Algorithm\n",
    "\n",
    "## Define oracle for balanced/constant functions.\n",
    "\n",
    "## Apply Hadamards → Uf → Hadamards → measure."
   ]
  },
  {
   "cell_type": "code",
   "execution_count": 2,
   "id": "b43527d5",
   "metadata": {},
   "outputs": [
    {
     "name": "stdout",
     "output_type": "stream",
     "text": [
      "{'1': 2000}\n"
     ]
    },
    {
     "name": "stderr",
     "output_type": "stream",
     "text": [
      "d:\\QUANTUM COMPUTING\\Industry Projects\\.venv\\lib\\site-packages\\qiskit\\visualization\\circuit\\matplotlib.py:266: FutureWarning: The default matplotlib drawer scheme will be changed to \"iqp\" in a following release. To silence this warning, specify the current default explicitly as style=\"clifford\", or the new default as style=\"iqp\".\n",
      "  self._style, def_font_ratio = load_style(self._style)\n"
     ]
    },
    {
     "data": {
      "image/png": "[encoded data removed]",
      "text/plain": [
       "<Figure size 700x500 with 1 Axes>"
      ]
     },
     "execution_count": 2,
     "metadata": {},
     "output_type": "execute_result"
    }
   ],
   "source": [
    "from qiskit import QuantumCircuit, transpile, assemble\n",
    "from qiskit_aer import AerSimulator\n",
    "from qiskit.visualization import plot_histogram\n",
    "\n",
    "# Deutsch Algorithm for f(x) = x (balanced)\n",
    "qc = QuantumCircuit(2, 1)\n",
    "qc.x(1)\n",
    "qc.h([0,1])\n",
    "qc.barrier()\n",
    "\n",
    "qc.cx(0,1)\n",
    "qc.barrier()\n",
    "\n",
    "qc.h(0)\n",
    "qc.measure(0, 0)\n",
    "qc.draw('mpl')\n",
    "\n",
    "sim = AerSimulator()\n",
    "tqc = transpile(qc, sim)\n",
    "result = sim.run(tqc, shots = 2000).result()\n",
    "counts = result.get_counts()\n",
    "print(counts)\n",
    "plot_histogram(counts)"
   ]
  },
  {
   "cell_type": "code",
   "execution_count": 7,
   "id": "57d8472a",
   "metadata": {},
   "outputs": [
    {
     "name": "stdout",
     "output_type": "stream",
     "text": [
      "{'101': 2000}\n"
     ]
    },
    {
     "data": {
      "image/png": "[encoded data removed]",
      "text/plain": [
       "<Figure size 700x500 with 1 Axes>"
      ]
     },
     "execution_count": 7,
     "metadata": {},
     "output_type": "execute_result"
    }
   ],
   "source": [
    "# Bernstein-Vazirani Algorithm (Example : secret string s = \"101\")\n",
    "\n",
    "n = 3\n",
    "qc = QuantumCircuit(n+1, n)\n",
    "qc.x(n)\n",
    "qc.h(range(n+1))\n",
    "\n",
    "#Oracle for s = 101\n",
    "qc.cx(0,n)\n",
    "qc.cx(2,n)\n",
    "\n",
    "qc.h(range(n))\n",
    "qc.measure(range(n), range(n))\n",
    "qc.draw('mpl')\n",
    "sim = AerSimulator()\n",
    "tqc = transpile(qc, sim)\n",
    "result = sim.run(tqc, shots = 2000).result()\n",
    "counts = result.get_counts()\n",
    "print(counts)\n",
    "plot_histogram(counts)"
   ]
  },
  {
   "cell_type": "markdown",
   "id": "e751b5ec",
   "metadata": {},
   "source": [
    "# Bell states & their measurement correlations\n",
    "## Bell states are maximally entangled 2-qubit states. Example:\n",
    "## ket [phi(+)]​ = ket(00) + ket(11) / root2\n",
    "## They show strong correlation in multiple measurement bases (Z,X)\n",
    "\n",
    "## code - Prepare ket[phi(+)], view statevector, measure in Z\n",
    "\n",
    "."
   ]
  },
  {
   "cell_type": "code",
   "execution_count": 22,
   "id": "832f49a5",
   "metadata": {},
   "outputs": [
    {
     "name": "stderr",
     "output_type": "stream",
     "text": [
      "d:\\QUANTUM COMPUTING\\Industry Projects\\.venv\\lib\\site-packages\\qiskit\\visualization\\circuit\\matplotlib.py:266: FutureWarning: The default matplotlib drawer scheme will be changed to \"iqp\" in a following release. To silence this warning, specify the current default explicitly as style=\"clifford\", or the new default as style=\"iqp\".\n",
      "  self._style, def_font_ratio = load_style(self._style)\n"
     ]
    },
    {
     "data": {
      "text/latex": [
       "$$\\frac{\\sqrt{2}}{2} |00\\rangle+\\frac{\\sqrt{2}}{2} |11\\rangle$$"
      ],
      "text/plain": [
       "<IPython.core.display.Latex object>"
      ]
     },
     "metadata": {},
     "output_type": "display_data"
    },
    {
     "name": "stdout",
     "output_type": "stream",
     "text": [
      "{'11': 1984, '00': 2016}\n"
     ]
    },
    {
     "data": {
      "image/png": "[encoded data removed]",
      "text/plain": [
       "<Figure size 700x500 with 1 Axes>"
      ]
     },
     "execution_count": 22,
     "metadata": {},
     "output_type": "execute_result"
    }
   ],
   "source": [
    "# |Φ+> = (|00> + |11>)/√2\n",
    "from qiskit.quantum_info import Statevector\n",
    "qc = QuantumCircuit(2, 2)\n",
    "qc.h(0)\n",
    "qc.cx(0, 1)\n",
    "qc.draw('mpl')\n",
    "\n",
    "#Statevector (use circuit without measurement)\n",
    "qc_sv = QuantumCircuit(2)\n",
    "qc_sv.h(0)\n",
    "qc_sv.cx(0, 1)\n",
    "sv = Statevector.from_instruction(qc_sv)\n",
    "display(sv.draw('latex'))\n",
    "\n",
    "# Z-basis measurement correlations (~50% 00 and 50% 11)\n",
    "qc_meas = qc.copy()\n",
    "qc_meas.measure([0, 1], [0, 1])\n",
    "tqc = transpile(qc_meas, sim)\n",
    "res = sim.run(tqc, shots = 4000).result()\n",
    "counts = res.get_counts()\n",
    "print(counts)\n",
    "plot_histogram(counts)"
   ]
  },
  {
   "cell_type": "code",
   "execution_count": 23,
   "id": "bc494610",
   "metadata": {},
   "outputs": [
    {
     "name": "stdout",
     "output_type": "stream",
     "text": [
      "{'00': 1994, '11': 2006}\n"
     ]
    },
    {
     "data": {
      "image/png": "[encoded data removed]",
      "text/plain": [
       "<Figure size 700x500 with 1 Axes>"
      ]
     },
     "execution_count": 23,
     "metadata": {},
     "output_type": "execute_result"
    }
   ],
   "source": [
    "# Measure both qubits in X basis: apply H, then measure\n",
    "qc_x = QuantumCircuit(2, 2)\n",
    "qc_x.h(0); qc_x.cx(0,1)\n",
    "qc_x.h([0,1])               # rotate X->Z\n",
    "qc_x.measure([0,1],[0,1])\n",
    "\n",
    "tqc_x = transpile(qc_x, sim)\n",
    "res_x = sim.run(tqc_x, shots=4000).result()\n",
    "counts_x = res_x.get_counts()\n",
    "print(counts_x)\n",
    "plot_histogram(counts_x)\n"
   ]
  },
  {
   "cell_type": "code",
   "execution_count": 29,
   "id": "ab1597ed",
   "metadata": {},
   "outputs": [
    {
     "name": "stdout",
     "output_type": "stream",
     "text": [
      "E_ZZ = 1.0\n",
      "E_XX = 1.0\n"
     ]
    }
   ],
   "source": [
    "def corr_E(counts):\n",
    "    shots = sum(counts.values())\n",
    "    p = {b: counts.get(b,0)/shots for b in ['00','01','10','11']}\n",
    "    return p['00'] + p['11'] - p['01'] - p['10']\n",
    "\n",
    "print(\"E_ZZ =\", corr_E(counts))\n",
    "print(\"E_XX =\", corr_E(counts_x))\n"
   ]
  },
  {
   "cell_type": "markdown",
   "id": "22cd70bb",
   "metadata": {},
   "source": [
    "# GHZ state creation\n",
    "## Shows all-or-nothing correlations."
   ]
  },
  {
   "cell_type": "code",
   "execution_count": 32,
   "id": "339f8c3c",
   "metadata": {},
   "outputs": [
    {
     "name": "stdout",
     "output_type": "stream",
     "text": [
      "{'000': 2005, '111': 1995}\n"
     ]
    },
    {
     "name": "stderr",
     "output_type": "stream",
     "text": [
      "d:\\QUANTUM COMPUTING\\Industry Projects\\.venv\\lib\\site-packages\\qiskit\\visualization\\circuit\\matplotlib.py:266: FutureWarning: The default matplotlib drawer scheme will be changed to \"iqp\" in a following release. To silence this warning, specify the current default explicitly as style=\"clifford\", or the new default as style=\"iqp\".\n",
      "  self._style, def_font_ratio = load_style(self._style)\n"
     ]
    },
    {
     "data": {
      "image/png": "[encoded data removed]",
      "text/plain": [
       "<Figure size 700x500 with 1 Axes>"
      ]
     },
     "execution_count": 32,
     "metadata": {},
     "output_type": "execute_result"
    }
   ],
   "source": [
    "# Build and measure GHZ\n",
    "\n",
    "qc = QuantumCircuit(3,3)\n",
    "qc.h(0)\n",
    "qc.cx(0,1)\n",
    "qc.cx(1,2)\n",
    "qc.measure([0,1,2],[0,1,2])\n",
    "qc.draw('mpl')\n",
    "\n",
    "tqc = transpile(qc,sim)\n",
    "res = sim.run(tqc, shots = 4000).result()\n",
    "counts = res.get_counts()\n",
    "print(counts)\n",
    "plot_histogram(counts)  "
   ]
  },
  {
   "cell_type": "markdown",
   "id": "ca5c0773",
   "metadata": {},
   "source": [
    "# Quantum teleportation protocol (step-by-step) (Markdown)\n",
    "\n",
    "## Goal: transfer an unknown state ∣𝜓⟩ from Alice (q0) to Bob (q2) using shared entanglement (q1–q2) and 2 classical bits.\n",
    "## Steps: prepare ∣𝜓⟩ on q0 → create Bell pair between q1 & q2 → Bell-measure q0,q1 → send bits → Bob applies conditional 𝑍 and 𝑋."
   ]
  },
  {
   "cell_type": "code",
   "execution_count": 1,
   "id": "ac138c81",
   "metadata": {},
   "outputs": [
    {
     "name": "stdout",
     "output_type": "stream",
     "text": [
      "Input state: theta=0.6, phi=0.3\n"
     ]
    },
    {
     "name": "stderr",
     "output_type": "stream",
     "text": [
      "d:\\QUANTUM COMPUTING\\Industry Projects\\.venv\\lib\\site-packages\\qiskit\\visualization\\circuit\\matplotlib.py:266: FutureWarning: The default matplotlib drawer scheme will be changed to \"iqp\" in a following release. To silence this warning, specify the current default explicitly as style=\"clifford\", or the new default as style=\"iqp\".\n",
      "  self._style, def_font_ratio = load_style(self._style)\n"
     ]
    },
    {
     "data": {
      "text/plain": [
       "\"Output measurement (Bob's qubit):\""
      ]
     },
     "metadata": {},
     "output_type": "display_data"
    },
    {
     "name": "stdout",
     "output_type": "stream",
     "text": [
      "Input state: theta=0.6, phi=0.3\n"
     ]
    },
    {
     "name": "stderr",
     "output_type": "stream",
     "text": [
      "d:\\QUANTUM COMPUTING\\Industry Projects\\.venv\\lib\\site-packages\\qiskit\\visualization\\circuit\\matplotlib.py:266: FutureWarning: The default matplotlib drawer scheme will be changed to \"iqp\" in a following release. To silence this warning, specify the current default explicitly as style=\"clifford\", or the new default as style=\"iqp\".\n",
      "  self._style, def_font_ratio = load_style(self._style)\n"
     ]
    },
    {
     "data": {
      "text/plain": [
       "\"Output measurement (Bob's qubit):\""
      ]
     },
     "metadata": {},
     "output_type": "display_data"
    },
    {
     "data": {
      "text/plain": [
       "{'1 0 0': 23,\n",
       " '0 0 1': 246,\n",
       " '0 1 0': 205,\n",
       " '0 0 0': 231,\n",
       " '0 1 1': 239,\n",
       " '1 1 1': 14,\n",
       " '1 0 1': 21,\n",
       " '1 1 0': 21}"
      ]
     },
     "metadata": {},
     "output_type": "display_data"
    },
    {
     "name": "stdout",
     "output_type": "stream",
     "text": [
      "Input state: theta=0.6, phi=0.3\n"
     ]
    },
    {
     "name": "stderr",
     "output_type": "stream",
     "text": [
      "d:\\QUANTUM COMPUTING\\Industry Projects\\.venv\\lib\\site-packages\\qiskit\\visualization\\circuit\\matplotlib.py:266: FutureWarning: The default matplotlib drawer scheme will be changed to \"iqp\" in a following release. To silence this warning, specify the current default explicitly as style=\"clifford\", or the new default as style=\"iqp\".\n",
      "  self._style, def_font_ratio = load_style(self._style)\n"
     ]
    },
    {
     "data": {
      "text/plain": [
       "\"Output measurement (Bob's qubit):\""
      ]
     },
     "metadata": {},
     "output_type": "display_data"
    },
    {
     "data": {
      "text/plain": [
       "{'1 0 0': 23,\n",
       " '0 0 1': 246,\n",
       " '0 1 0': 205,\n",
       " '0 0 0': 231,\n",
       " '0 1 1': 239,\n",
       " '1 1 1': 14,\n",
       " '1 0 1': 21,\n",
       " '1 1 0': 21}"
      ]
     },
     "metadata": {},
     "output_type": "display_data"
    },
    {
     "data": {
      "image/png": "[encoded data removed]",
      "text/plain": [
       "<Figure size 700x500 with 1 Axes>"
      ]
     },
     "execution_count": 60,
     "metadata": {},
     "output_type": "execute_result"
    }
   ],
   "source": [
    "# Teleportation with conditional corrections\n",
    "from qiskit import QuantumCircuit, QuantumRegister, ClassicalRegister\n",
    "from qiskit_aer import AerSimulator\n",
    "from qiskit import transpile\n",
    "\n",
    "qr = QuantumRegister(3)\n",
    "crz = ClassicalRegister(1, 'cz')\n",
    "crx = ClassicalRegister(1, 'cx')\n",
    "crout = ClassicalRegister(1, 'cout') # for Bob's output measurement\n",
    "qc = QuantumCircuit(qr, crz, crx, crout)\n",
    "\n",
    "# 1. Prepare an arbitrary state psi on q0 \n",
    "theta, phi = 0.6, 0.3\n",
    "qc.ry(theta, qr[0])\n",
    "qc.rz(phi, qr[0])\n",
    "\n",
    "# 2. Create Bell pair between q1 and q2\n",
    "qc.h(qr[1])\n",
    "qc.cx(qr[1], qr[2])\n",
    "qc.barrier()\n",
    "\n",
    "# 3. Bell measurement on q0 and q1\n",
    "qc.cx(qr[0], qr[1])\n",
    "qc.h(qr[0])\n",
    "qc.measure(qr[0], crz[0]) # first bit controls Z\n",
    "qc.measure(qr[1], crx[0]) # second bit controls X\n",
    "\n",
    "# 4. Bob's conditional corrections on q2\n",
    "qc.z(qr[2]).c_if(crz, 1) # if crz==1 apply Z\n",
    "qc.x(qr[2]).c_if(crx, 1) # if crx==1 apply X\n",
    "\n",
    "# 5. Measure Bob's qubit to classical output register\n",
    "qc.measure(qr[2], crout[0])\n",
    "\n",
    "qc.draw('mpl')\n",
    "\n",
    "# Simulate and show output\n",
    "sim = AerSimulator()\n",
    "tqc = transpile(qc, sim)\n",
    "result = sim.run(tqc, shots=1000).result()\n",
    "counts = result.get_counts()\n",
    "print(f\"Input state: theta={theta}, phi={phi}\")\n",
    "display(\"Output measurement (Bob's qubit):\", counts)\n",
    "plot_histogram(counts)"
   ]
  },
  {
   "cell_type": "code",
   "execution_count": 12,
   "id": "6772c106",
   "metadata": {},
   "outputs": [
    {
     "name": "stdout",
     "output_type": "stream",
     "text": [
      "Alice’s original state |ψ⟩ = DensityMatrix([[0.91266781+0.j        , 0.26971178-0.08343163j],\n",
      "               [0.26971178+0.08343163j, 0.08733219+0.j        ]],\n",
      "              dims=(2,))\n",
      "Bob’s final state = DensityMatrix([[0.91266781+0.j        , 0.26971178-0.08343163j],\n",
      "               [0.26971178+0.08343163j, 0.08733219+0.j        ]],\n",
      "              dims=(2,))\n",
      "Fidelity = 1.0000000000000004\n"
     ]
    },
    {
     "name": "stderr",
     "output_type": "stream",
     "text": [
      "C:\\Users\\ASUS\\AppData\\Local\\Temp\\ipykernel_28544\\1308919885.py:42: DeprecationWarning: The function ``qiskit.execute_function.execute()`` is deprecated as of qiskit 0.46.0. It will be removed in the Qiskit 1.0 release. This function combines ``transpile`` and ``backend.run``, which is covered by ``Sampler`` :mod:`~qiskit.primitives`. Alternatively, you can also run :func:`.transpile` followed by ``backend.run()``.\n",
      "  result = execute(qc, backend).result()\n"
     ]
    }
   ],
   "source": [
    "from qiskit import QuantumCircuit, Aer, execute\n",
    "from qiskit.quantum_info import Statevector, state_fidelity, partial_trace, DensityMatrix\n",
    "import numpy as np\n",
    "\n",
    "# -----------------------------\n",
    "# 1) Prepare arbitrary state |ψ> on q0\n",
    "# -----------------------------\n",
    "theta, phi = 0.6, 0.3   # change angles to test\n",
    "qc_prep = QuantumCircuit(1)\n",
    "qc_prep.ry(theta, 0)\n",
    "qc_prep.rz(phi, 0)\n",
    "\n",
    "# Save Alice’s prepared state (as single-qubit density matrix)\n",
    "psi = Statevector.from_instruction(qc_prep)\n",
    "psi_dm = DensityMatrix(psi)\n",
    "\n",
    "# -----------------------------\n",
    "# 2) Full teleportation circuit\n",
    "# -----------------------------\n",
    "qc = QuantumCircuit(3)\n",
    "\n",
    "# prepare |ψ> on q0\n",
    "qc.ry(theta, 0)\n",
    "qc.rz(phi, 0)\n",
    "\n",
    "# entanglement between q1-q2\n",
    "qc.h(1)\n",
    "qc.cx(1, 2)\n",
    "\n",
    "# Bell measurement (no classical measurement here)\n",
    "qc.cx(0, 1)\n",
    "qc.h(0)\n",
    "\n",
    "# Bob’s corrections (unitary form)\n",
    "qc.cx(1, 2)   # X correction\n",
    "qc.cz(0, 2)   # Z correction\n",
    "\n",
    "# -----------------------------\n",
    "# 3) Get final statevector\n",
    "# -----------------------------\n",
    "backend = Aer.get_backend('statevector_simulator')\n",
    "result = execute(qc, backend).result()\n",
    "final_state = result.get_statevector(qc)\n",
    "\n",
    "# -----------------------------\n",
    "# 4) Extract Bob’s qubit only\n",
    "# -----------------------------\n",
    "bob_state = partial_trace(final_state, [0,1])  # reduced density matrix of q2\n",
    "\n",
    "# -----------------------------\n",
    "# 5) Fidelity check\n",
    "# -----------------------------\n",
    "fidelity = state_fidelity(psi_dm, bob_state)\n",
    "\n",
    "print(\"Alice’s original state |ψ⟩ =\", psi_dm)\n",
    "print(\"Bob’s final state =\", bob_state)\n",
    "print(\"Fidelity =\", fidelity)\n"
   ]
  },
  {
   "cell_type": "markdown",
   "id": "57e04e0c",
   "metadata": {},
   "source": [
    "# Superdense coding\n",
    "\n",
    "- Use shared entanglement to send 2 classical bits by transmitting 1 qubit.\n",
    "- Encoding map (on Alice’s qubit):# 00 → 𝐼\n",
    "- 01 → 𝑋\n",
    "- 10 → 𝑍\n",
    "- 11 → 𝑋𝑍 (or 𝑍 then 𝑋)\n",
    "- Bob decodes with CNOT + H and measures two bits."
   ]
  },
  {
   "cell_type": "markdown",
   "id": "64f15ec9",
   "metadata": {},
   "source": [
    "# Hands-on experiments with simulation"
   ]
  },
  {
   "cell_type": "code",
   "execution_count": 14,
   "id": "0eaf7f87",
   "metadata": {},
   "outputs": [],
   "source": [
    "# Helper: measure in arbitrary basis\n",
    "from qiskit import QuantumCircuit\n",
    "\n",
    "def measure_in_basis(qc, qubits, clbits, basis='Z'):\n",
    "    \"\"\"\n",
    "    Apply basis rotations before measuring.\n",
    "    basis: 'Z', 'X', 'Y'\n",
    "    \"\"\"\n",
    "    for q in qubits:\n",
    "        if basis == 'X':\n",
    "            qc.h(q)\n",
    "        elif basis == 'Y':\n",
    "            qc.sdg(q)\n",
    "            qc.h(q)\n",
    "    qc.measure(qubits, clbits)\n",
    "    return qc\n"
   ]
  },
  {
   "cell_type": "code",
   "execution_count": null,
   "id": "1457ec8d",
   "metadata": {},
   "outputs": [
    {
     "name": "stdout",
     "output_type": "stream",
     "text": [
      "\n",
      "phi+ in Z basis: {'11': 988, '00': 1012}\n",
      "phi+ in X basis: {'11': 1010, '00': 990}\n",
      "\n",
      "phi- in Z basis: {'11': 977, '00': 1023}\n",
      "phi- in X basis: {'10': 1049, '01': 951}\n",
      "\n",
      "psi+ in Z basis: {'10': 1008, '01': 992}\n",
      "psi+ in X basis: {'00': 986, '11': 1014}\n",
      "\n",
      "psi- in Z basis: {'01': 996, '10': 1004}\n",
      "psi- in X basis: {'10': 1020, '01': 980}\n"
     ]
    }
   ],
   "source": [
    "# Bell basis sweep\n",
    "# Prepare all 4 Bell states and check Z and X correlations.\n",
    "from qiskit_aer import AerSimulator\n",
    "from qiskit import QuantumCircuit, transpile\n",
    "def bell_state(which=\"phi+\"):\n",
    "    qc = QuantumCircuit(2,2)\n",
    "    qc.h(0)\n",
    "    qc.cx(0,1)\n",
    "    if which == \"phi-\":\n",
    "        qc.z(0)\n",
    "    elif which == \"psi+\":\n",
    "        qc.x(0)\n",
    "    elif which == \"psi-\":\n",
    "        qc.z(0); qc.x(0)\n",
    "    return qc\n",
    "\n",
    "states = [\"phi+\",\"phi-\",\"psi+\",\"psi-\"]\n",
    "sim = AerSimulator()\n",
    "for s in states:\n",
    "    qc = bell_state(s).copy()\n",
    "    qc_z = qc.copy()\n",
    "    qc_z = measure_in_basis(qc_z, [0,1],[0,1],'Z')\n",
    "    res_z = sim.run(transpile(qc_z, sim), shots=2000).result().get_counts()\n",
    "    \n",
    "    qc_x = bell_state(s).copy()\n",
    "    qc_x = measure_in_basis(qc_x, [0,1],[0,1],'X')\n",
    "    res_x = sim.run(transpile(qc_x, sim), shots=2000).result().get_counts()\n",
    "    \n",
    "    print(f\"\\n{s} in Z basis:\", res_z)\n",
    "    print(f\"{s} in X basis:\", res_x)\n"
   ]
  },
  {
   "cell_type": "code",
   "execution_count": 21,
   "id": "426259c3",
   "metadata": {},
   "outputs": [
    {
     "name": "stdout",
     "output_type": "stream",
     "text": [
      "E_XX for |Φ+> = 1.0\n"
     ]
    }
   ],
   "source": [
    "# Compute correlation 𝐸\n",
    "def correlation(counts):\n",
    "    shots = sum(counts.values())\n",
    "    probs = {k: v/shots for k,v in counts.items()}\n",
    "    return probs.get('00',0)+probs.get('11',0)-probs.get('01',0)-probs.get('10',0)\n",
    "\n",
    "# Example for Bell state |Φ+>\n",
    "qc = bell_state(\"phi+\").copy()\n",
    "qc = measure_in_basis(qc, [0,1],[0,1],'X')\n",
    "res = sim.run(transpile(qc, sim), shots=4000).result().get_counts()\n",
    "print(\"E_XX for |Φ+> =\", correlation(res))\n"
   ]
  },
  {
   "cell_type": "code",
   "execution_count": 7,
   "id": "c89abb42",
   "metadata": {},
   "outputs": [
    {
     "ename": "ImportError",
     "evalue": "Qiskit is installed in an invalid environment that has both Qiskit >=1.0 and an earlier version. You should create a new virtual environment, and ensure that you do not mix dependencies between Qiskit <1.0 and >=1.0. Any packages that depend on 'qiskit-terra' are not compatible with Qiskit 1.0 and will need to be updated. Qiskit unfortunately cannot enforce this requirement during environment resolution. See https://qisk.it/packaging-1-0 for more detail.",
     "output_type": "error",
     "traceback": [
      "\u001b[1;31m---------------------------------------------------------------------------\u001b[0m",
      "\u001b[1;31mImportError\u001b[0m                               Traceback (most recent call last)",
      "Cell \u001b[1;32mIn[7], line 2\u001b[0m\n\u001b[0;32m      1\u001b[0m \u001b[38;5;66;03m# GHZ parity check in X basis\u001b[39;00m\n\u001b[1;32m----> 2\u001b[0m \u001b[38;5;28;01mfrom\u001b[39;00m\u001b[38;5;250m \u001b[39m\u001b[38;5;21;01mqiskit\u001b[39;00m\u001b[38;5;21;01m.\u001b[39;00m\u001b[38;5;21;01mvisualization\u001b[39;00m\u001b[38;5;250m \u001b[39m\u001b[38;5;28;01mimport\u001b[39;00m plot_histogram\n\u001b[0;32m      3\u001b[0m qc \u001b[38;5;241m=\u001b[39m QuantumCircuit(\u001b[38;5;241m3\u001b[39m,\u001b[38;5;241m3\u001b[39m)\n\u001b[0;32m      4\u001b[0m qc\u001b[38;5;241m.\u001b[39mh(\u001b[38;5;241m0\u001b[39m); qc\u001b[38;5;241m.\u001b[39mcx(\u001b[38;5;241m0\u001b[39m,\u001b[38;5;241m1\u001b[39m); qc\u001b[38;5;241m.\u001b[39mcx(\u001b[38;5;241m0\u001b[39m,\u001b[38;5;241m2\u001b[39m)\n",
      "File \u001b[1;32md:\\QUANTUM COMPUTING\\Industry Projects\\.venv\\lib\\site-packages\\qiskit\\__init__.py:36\u001b[0m\n\u001b[0;32m     34\u001b[0m     _suppress_error \u001b[38;5;241m=\u001b[39m os\u001b[38;5;241m.\u001b[39menviron\u001b[38;5;241m.\u001b[39mget(\u001b[38;5;124m\"\u001b[39m\u001b[38;5;124mQISKIT_SUPPRESS_1_0_IMPORT_ERROR\u001b[39m\u001b[38;5;124m\"\u001b[39m, \u001b[38;5;28;01mFalse\u001b[39;00m) \u001b[38;5;241m==\u001b[39m \u001b[38;5;124m\"\u001b[39m\u001b[38;5;124m1\u001b[39m\u001b[38;5;124m\"\u001b[39m\n\u001b[0;32m     35\u001b[0m     \u001b[38;5;28;01mif\u001b[39;00m \u001b[38;5;129;01mnot\u001b[39;00m _suppress_error \u001b[38;5;129;01mand\u001b[39;00m _has_tools:\n\u001b[1;32m---> 36\u001b[0m         \u001b[38;5;28;01mraise\u001b[39;00m \u001b[38;5;167;01mImportError\u001b[39;00m(\n\u001b[0;32m     37\u001b[0m             \u001b[38;5;124m\"\u001b[39m\u001b[38;5;124mQiskit is installed in an invalid environment that has both Qiskit >=1.0\u001b[39m\u001b[38;5;124m\"\u001b[39m\n\u001b[0;32m     38\u001b[0m             \u001b[38;5;124m\"\u001b[39m\u001b[38;5;124m and an earlier version.\u001b[39m\u001b[38;5;124m\"\u001b[39m\n\u001b[0;32m     39\u001b[0m             \u001b[38;5;124m\"\u001b[39m\u001b[38;5;124m You should create a new virtual environment, and ensure that you do not mix\u001b[39m\u001b[38;5;124m\"\u001b[39m\n\u001b[0;32m     40\u001b[0m             \u001b[38;5;124m\"\u001b[39m\u001b[38;5;124m dependencies between Qiskit <1.0 and >=1.0.\u001b[39m\u001b[38;5;124m\"\u001b[39m\n\u001b[0;32m     41\u001b[0m             \u001b[38;5;124m\"\u001b[39m\u001b[38;5;124m Any packages that depend on \u001b[39m\u001b[38;5;124m'\u001b[39m\u001b[38;5;124mqiskit-terra\u001b[39m\u001b[38;5;124m'\u001b[39m\u001b[38;5;124m are not compatible with Qiskit 1.0 and\u001b[39m\u001b[38;5;124m\"\u001b[39m\n\u001b[0;32m     42\u001b[0m             \u001b[38;5;124m\"\u001b[39m\u001b[38;5;124m will need to be updated.\u001b[39m\u001b[38;5;124m\"\u001b[39m\n\u001b[0;32m     43\u001b[0m             \u001b[38;5;124m\"\u001b[39m\u001b[38;5;124m Qiskit unfortunately cannot enforce this requirement during environment resolution.\u001b[39m\u001b[38;5;124m\"\u001b[39m\n\u001b[0;32m     44\u001b[0m             \u001b[38;5;124m\"\u001b[39m\u001b[38;5;124m See https://qisk.it/packaging-1-0 for more detail.\u001b[39m\u001b[38;5;124m\"\u001b[39m\n\u001b[0;32m     45\u001b[0m         )\n\u001b[0;32m     47\u001b[0m \u001b[38;5;28;01mif\u001b[39;00m sys\u001b[38;5;241m.\u001b[39mversion_info \u001b[38;5;241m<\u001b[39m (\u001b[38;5;241m3\u001b[39m, \u001b[38;5;241m10\u001b[39m):\n\u001b[0;32m     48\u001b[0m     warnings\u001b[38;5;241m.\u001b[39mwarn(\n\u001b[0;32m     49\u001b[0m         \u001b[38;5;124m\"\u001b[39m\u001b[38;5;124mUsing Qiskit with Python 3.9 is deprecated as of the 2.1.0 release. \u001b[39m\u001b[38;5;124m\"\u001b[39m\n\u001b[0;32m     50\u001b[0m         \u001b[38;5;124m\"\u001b[39m\u001b[38;5;124mSupport for running Qiskit with Python 3.9 will be removed in the \u001b[39m\u001b[38;5;124m\"\u001b[39m\n\u001b[1;32m   (...)\u001b[0m\n\u001b[0;32m     53\u001b[0m         stacklevel\u001b[38;5;241m=\u001b[39m\u001b[38;5;241m2\u001b[39m,\n\u001b[0;32m     54\u001b[0m     )\n",
      "\u001b[1;31mImportError\u001b[0m: Qiskit is installed in an invalid environment that has both Qiskit >=1.0 and an earlier version. You should create a new virtual environment, and ensure that you do not mix dependencies between Qiskit <1.0 and >=1.0. Any packages that depend on 'qiskit-terra' are not compatible with Qiskit 1.0 and will need to be updated. Qiskit unfortunately cannot enforce this requirement during environment resolution. See https://qisk.it/packaging-1-0 for more detail."
     ]
    }
   ],
   "source": [
    "# GHZ parity check in X basis\n",
    "from qiskit.visualization import plot_histogram\n",
    "qc = QuantumCircuit(3,3)\n",
    "qc.h(0); qc.cx(0,1); qc.cx(0,2)\n",
    "qc = measure_in_basis(qc, [0,1,2],[0,1,2],'X')\n",
    "\n",
    "res = sim.run(transpile(qc, sim), shots=4000).result().get_counts()\n",
    "print(res)\n",
    "plot_histogram(res)\n"
   ]
  },
  {
   "cell_type": "code",
   "execution_count": 2,
   "id": "9ae65057",
   "metadata": {},
   "outputs": [
    {
     "ename": "ImportError",
     "evalue": "Qiskit is installed in an invalid environment that has both Qiskit >=1.0 and an earlier version. You should create a new virtual environment, and ensure that you do not mix dependencies between Qiskit <1.0 and >=1.0. Any packages that depend on 'qiskit-terra' are not compatible with Qiskit 1.0 and will need to be updated. Qiskit unfortunately cannot enforce this requirement during environment resolution. See https://qisk.it/packaging-1-0 for more detail.",
     "output_type": "error",
     "traceback": [
      "\u001b[1;31m---------------------------------------------------------------------------\u001b[0m",
      "\u001b[1;31mImportError\u001b[0m                               Traceback (most recent call last)",
      "Cell \u001b[1;32mIn[2], line 2\u001b[0m\n\u001b[0;32m      1\u001b[0m \u001b[38;5;66;03m# Noise Experiment\u001b[39;00m\n\u001b[1;32m----> 2\u001b[0m \u001b[38;5;28;01mfrom\u001b[39;00m\u001b[38;5;250m \u001b[39m\u001b[38;5;21;01mqiskit_aer\u001b[39;00m\u001b[38;5;21;01m.\u001b[39;00m\u001b[38;5;21;01mnoise\u001b[39;00m\u001b[38;5;250m \u001b[39m\u001b[38;5;28;01mimport\u001b[39;00m NoiseModel, depolarizing_error\n\u001b[0;32m      4\u001b[0m \u001b[38;5;66;03m# Depolarizing noise on CX gate\u001b[39;00m\n\u001b[0;32m      5\u001b[0m noise_model \u001b[38;5;241m=\u001b[39m NoiseModel()\n",
      "File \u001b[1;32md:\\QUANTUM COMPUTING\\Industry Projects\\.venv\\lib\\site-packages\\qiskit_aer\\__init__.py:70\u001b[0m\n\u001b[0;32m     66\u001b[0m     np\u001b[38;5;241m.\u001b[39mdot(np\u001b[38;5;241m.\u001b[39mzeros(\u001b[38;5;241m100\u001b[39m), np\u001b[38;5;241m.\u001b[39mzeros(\u001b[38;5;241m100\u001b[39m))\n\u001b[0;32m     67\u001b[0m \u001b[38;5;66;03m# ... ¯\\_(ツ)_/¯\u001b[39;00m\n\u001b[0;32m     68\u001b[0m \n\u001b[0;32m     69\u001b[0m \u001b[38;5;66;03m# pylint: disable=wrong-import-position\u001b[39;00m\n\u001b[1;32m---> 70\u001b[0m \u001b[38;5;28;01mfrom\u001b[39;00m\u001b[38;5;250m \u001b[39m\u001b[38;5;21;01mqiskit_aer\u001b[39;00m\u001b[38;5;21;01m.\u001b[39;00m\u001b[38;5;21;01maerprovider\u001b[39;00m\u001b[38;5;250m \u001b[39m\u001b[38;5;28;01mimport\u001b[39;00m AerProvider\n\u001b[0;32m     71\u001b[0m \u001b[38;5;28;01mfrom\u001b[39;00m\u001b[38;5;250m \u001b[39m\u001b[38;5;21;01mqiskit_aer\u001b[39;00m\u001b[38;5;21;01m.\u001b[39;00m\u001b[38;5;21;01mjobs\u001b[39;00m\u001b[38;5;250m \u001b[39m\u001b[38;5;28;01mimport\u001b[39;00m AerJob, AerJobSet\n\u001b[0;32m     72\u001b[0m \u001b[38;5;28;01mfrom\u001b[39;00m\u001b[38;5;250m \u001b[39m\u001b[38;5;21;01mqiskit_aer\u001b[39;00m\u001b[38;5;21;01m.\u001b[39;00m\u001b[38;5;21;01maererror\u001b[39;00m\u001b[38;5;250m \u001b[39m\u001b[38;5;28;01mimport\u001b[39;00m AerError\n",
      "File \u001b[1;32md:\\QUANTUM COMPUTING\\Industry Projects\\.venv\\lib\\site-packages\\qiskit_aer\\aerprovider.py:18\u001b[0m\n\u001b[0;32m     14\u001b[0m \u001b[38;5;124;03m\"\"\"Provider for Qiskit Aer backends.\"\"\"\u001b[39;00m\n\u001b[0;32m     16\u001b[0m \u001b[38;5;28;01mimport\u001b[39;00m\u001b[38;5;250m \u001b[39m\u001b[38;5;21;01mwarnings\u001b[39;00m\n\u001b[1;32m---> 18\u001b[0m \u001b[38;5;28;01mfrom\u001b[39;00m\u001b[38;5;250m \u001b[39m\u001b[38;5;21;01mqiskit\u001b[39;00m\u001b[38;5;21;01m.\u001b[39;00m\u001b[38;5;21;01mproviders\u001b[39;00m\u001b[38;5;250m \u001b[39m\u001b[38;5;28;01mimport\u001b[39;00m ProviderV1 \u001b[38;5;28;01mas\u001b[39;00m Provider\n\u001b[0;32m     19\u001b[0m \u001b[38;5;28;01mfrom\u001b[39;00m\u001b[38;5;250m \u001b[39m\u001b[38;5;21;01mqiskit\u001b[39;00m\u001b[38;5;21;01m.\u001b[39;00m\u001b[38;5;21;01mproviders\u001b[39;00m\u001b[38;5;21;01m.\u001b[39;00m\u001b[38;5;21;01mproviderutils\u001b[39;00m\u001b[38;5;250m \u001b[39m\u001b[38;5;28;01mimport\u001b[39;00m filter_backends\n\u001b[0;32m     21\u001b[0m \u001b[38;5;28;01mfrom\u001b[39;00m\u001b[38;5;250m \u001b[39m\u001b[38;5;21;01m.\u001b[39;00m\u001b[38;5;21;01mbackends\u001b[39;00m\u001b[38;5;21;01m.\u001b[39;00m\u001b[38;5;21;01maer_simulator\u001b[39;00m\u001b[38;5;250m \u001b[39m\u001b[38;5;28;01mimport\u001b[39;00m AerSimulator\n",
      "File \u001b[1;32md:\\QUANTUM COMPUTING\\Industry Projects\\.venv\\lib\\site-packages\\qiskit\\__init__.py:36\u001b[0m\n\u001b[0;32m     34\u001b[0m     _suppress_error \u001b[38;5;241m=\u001b[39m os\u001b[38;5;241m.\u001b[39menviron\u001b[38;5;241m.\u001b[39mget(\u001b[38;5;124m\"\u001b[39m\u001b[38;5;124mQISKIT_SUPPRESS_1_0_IMPORT_ERROR\u001b[39m\u001b[38;5;124m\"\u001b[39m, \u001b[38;5;28;01mFalse\u001b[39;00m) \u001b[38;5;241m==\u001b[39m \u001b[38;5;124m\"\u001b[39m\u001b[38;5;124m1\u001b[39m\u001b[38;5;124m\"\u001b[39m\n\u001b[0;32m     35\u001b[0m     \u001b[38;5;28;01mif\u001b[39;00m \u001b[38;5;129;01mnot\u001b[39;00m _suppress_error \u001b[38;5;129;01mand\u001b[39;00m _has_tools:\n\u001b[1;32m---> 36\u001b[0m         \u001b[38;5;28;01mraise\u001b[39;00m \u001b[38;5;167;01mImportError\u001b[39;00m(\n\u001b[0;32m     37\u001b[0m             \u001b[38;5;124m\"\u001b[39m\u001b[38;5;124mQiskit is installed in an invalid environment that has both Qiskit >=1.0\u001b[39m\u001b[38;5;124m\"\u001b[39m\n\u001b[0;32m     38\u001b[0m             \u001b[38;5;124m\"\u001b[39m\u001b[38;5;124m and an earlier version.\u001b[39m\u001b[38;5;124m\"\u001b[39m\n\u001b[0;32m     39\u001b[0m             \u001b[38;5;124m\"\u001b[39m\u001b[38;5;124m You should create a new virtual environment, and ensure that you do not mix\u001b[39m\u001b[38;5;124m\"\u001b[39m\n\u001b[0;32m     40\u001b[0m             \u001b[38;5;124m\"\u001b[39m\u001b[38;5;124m dependencies between Qiskit <1.0 and >=1.0.\u001b[39m\u001b[38;5;124m\"\u001b[39m\n\u001b[0;32m     41\u001b[0m             \u001b[38;5;124m\"\u001b[39m\u001b[38;5;124m Any packages that depend on \u001b[39m\u001b[38;5;124m'\u001b[39m\u001b[38;5;124mqiskit-terra\u001b[39m\u001b[38;5;124m'\u001b[39m\u001b[38;5;124m are not compatible with Qiskit 1.0 and\u001b[39m\u001b[38;5;124m\"\u001b[39m\n\u001b[0;32m     42\u001b[0m             \u001b[38;5;124m\"\u001b[39m\u001b[38;5;124m will need to be updated.\u001b[39m\u001b[38;5;124m\"\u001b[39m\n\u001b[0;32m     43\u001b[0m             \u001b[38;5;124m\"\u001b[39m\u001b[38;5;124m Qiskit unfortunately cannot enforce this requirement during environment resolution.\u001b[39m\u001b[38;5;124m\"\u001b[39m\n\u001b[0;32m     44\u001b[0m             \u001b[38;5;124m\"\u001b[39m\u001b[38;5;124m See https://qisk.it/packaging-1-0 for more detail.\u001b[39m\u001b[38;5;124m\"\u001b[39m\n\u001b[0;32m     45\u001b[0m         )\n\u001b[0;32m     47\u001b[0m \u001b[38;5;28;01mif\u001b[39;00m sys\u001b[38;5;241m.\u001b[39mversion_info \u001b[38;5;241m<\u001b[39m (\u001b[38;5;241m3\u001b[39m, \u001b[38;5;241m10\u001b[39m):\n\u001b[0;32m     48\u001b[0m     warnings\u001b[38;5;241m.\u001b[39mwarn(\n\u001b[0;32m     49\u001b[0m         \u001b[38;5;124m\"\u001b[39m\u001b[38;5;124mUsing Qiskit with Python 3.9 is deprecated as of the 2.1.0 release. \u001b[39m\u001b[38;5;124m\"\u001b[39m\n\u001b[0;32m     50\u001b[0m         \u001b[38;5;124m\"\u001b[39m\u001b[38;5;124mSupport for running Qiskit with Python 3.9 will be removed in the \u001b[39m\u001b[38;5;124m\"\u001b[39m\n\u001b[1;32m   (...)\u001b[0m\n\u001b[0;32m     53\u001b[0m         stacklevel\u001b[38;5;241m=\u001b[39m\u001b[38;5;241m2\u001b[39m,\n\u001b[0;32m     54\u001b[0m     )\n",
      "\u001b[1;31mImportError\u001b[0m: Qiskit is installed in an invalid environment that has both Qiskit >=1.0 and an earlier version. You should create a new virtual environment, and ensure that you do not mix dependencies between Qiskit <1.0 and >=1.0. Any packages that depend on 'qiskit-terra' are not compatible with Qiskit 1.0 and will need to be updated. Qiskit unfortunately cannot enforce this requirement during environment resolution. See https://qisk.it/packaging-1-0 for more detail."
     ]
    }
   ],
   "source": [
    "# Noise Experiment\n",
    "from qiskit_aer.noise import NoiseModel, depolarizing_error\n",
    "\n",
    "# Depolarizing noise on CX gate\n",
    "noise_model = NoiseModel()\n",
    "error = depolarizing_error(0.1, 2)   # 10% error\n",
    "noise_model.add_all_qubit_quantum_error(error, ['cx'])\n",
    "\n",
    "qc = bell_state(\"phi+\")\n",
    "qc = measure_in_basis(qc, [0,1],[0,1],'Z')\n",
    "\n",
    "res = sim.run(transpile(qc, sim), shots=2000, noise_model=noise_model).result().get_counts()\n",
    "plot_histogram(res)\n"
   ]
  },
  {
   "cell_type": "markdown",
   "id": "d8070c19",
   "metadata": {},
   "source": [
    "# CHSH Inequality Test with Qiskit\n",
    "\n",
    "- The CHSH inequality is written as:\n",
    "- S = | E(a,b) + E(a,b') + E(a',b) - E(a',b') <= 2\n",
    "-  Quantum mechanics can reach 𝑆 ≈ 2.828, violating the classical bound."
   ]
  },
  {
   "cell_type": "code",
   "execution_count": 46,
   "id": "c6555c85",
   "metadata": {},
   "outputs": [
    {
     "name": "stdout",
     "output_type": "stream",
     "text": [
      "E(a,b)   = 0.715\n",
      "E(a,b')  = 0.7165\n",
      "E(a',b)  = 0.7155\n",
      "E(a',b') = -0.7195\n",
      "CHSH S = 2.8665000000000003\n"
     ]
    }
   ],
   "source": [
    "# Define correlation calculator\n",
    "from qiskit import QuantumCircuit, transpile\n",
    "from qiskit_aer import Aer\n",
    "from qiskit.quantum_info import Statevector\n",
    "import numpy as np\n",
    "\n",
    "sim = Aer.get_backend(\"aer_simulator\")\n",
    "\n",
    "def measure_and_correlation(theta_a, theta_b, shots=4000):\n",
    "    \"\"\"\n",
    "    Measure Bell state in rotated bases for CHSH.\n",
    "    \"\"\"\n",
    "    qc = QuantumCircuit(2,2)\n",
    "    # Prepare |Φ+>\n",
    "    qc.h(0); qc.cx(0,1)\n",
    "\n",
    "    # Apply measurement rotations\n",
    "    qc.ry(-2*theta_a, 0)  # Alice\n",
    "    qc.ry(-2*theta_b, 1)  # Bob\n",
    "    \n",
    "    qc.measure([0,1],[0,1])\n",
    "\n",
    "    res = sim.run(transpile(qc, sim), shots=shots).result().get_counts()\n",
    "    \n",
    "    # Correlation: (00,11) - (01,10)\n",
    "    total = sum(res.values())\n",
    "    corr = (res.get('00',0)+res.get('11',0)-res.get('01',0)-res.get('10',0))/total\n",
    "    return corr\n",
    "\n",
    "# Choose CHSH measurement angles\n",
    "a, a_p = 0, np.pi/4\n",
    "b, b_p = np.pi/8, -np.pi/8\n",
    "\n",
    "E_ab   = measure_and_correlation(a, b)\n",
    "E_abp  = measure_and_correlation(a, b_p)\n",
    "E_apb  = measure_and_correlation(a_p, b)\n",
    "E_apbp = measure_and_correlation(a_p, b_p)\n",
    "\n",
    "S = abs(E_ab + E_abp + E_apb - E_apbp)\n",
    "\n",
    "print(\"E(a,b)   =\", E_ab)\n",
    "print(\"E(a,b')  =\", E_abp)\n",
    "print(\"E(a',b)  =\", E_apb)\n",
    "print(\"E(a',b') =\", E_apbp)\n",
    "print(\"CHSH S =\", S)\n"
   ]
  }
 ],
 "metadata": {
  "kernelspec": {
   "display_name": ".venv",
   "language": "python",
   "name": "python3"
  },
  "language_info": {
   "codemirror_mode": {
    "name": "ipython",
    "version": 3
   },
   "file_extension": ".py",
   "mimetype": "text/x-python",
   "name": "python",
   "nbconvert_exporter": "python",
   "pygments_lexer": "ipython3",
   "version": "3.10.7"
  }
 },
 "nbformat": 4,
 "nbformat_minor": 5
}
